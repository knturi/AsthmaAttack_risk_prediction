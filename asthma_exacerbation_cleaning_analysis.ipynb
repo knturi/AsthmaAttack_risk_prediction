{
 "cells": [
  {
   "cell_type": "code",
   "execution_count": 1,
   "id": "bd28d465",
   "metadata": {},
   "outputs": [],
   "source": [
    "import os\n",
    "import subprocess\n",
    "import numpy as np\n",
    "import pandas as pd"
   ]
  },
  {
   "cell_type": "code",
   "execution_count": 2,
   "id": "982bf755",
   "metadata": {},
   "outputs": [],
   "source": [
    "#!pip install imblearn --upgrade\n",
    "#!pip install plotly --upgrade\n",
    "#!pip install chart-studio --upgrade\n",
    "#!pip install --upgrade pip\n",
    "#!pip install sklearn --upgrade\n",
    "#!pip install xgboost --upgrade\n",
    "#!pip install tqdm --upgrade\n",
    "#!pip install impyute --upgrade\n",
    "#!pip install chart_studio "
   ]
  },
  {
   "cell_type": "code",
   "execution_count": 3,
   "id": "c8da0f71",
   "metadata": {},
   "outputs": [],
   "source": [
    "import chart_studio.plotly as py\n",
    "import plotly.graph_objs as go\n",
    "import plotly as plotly\n",
    "import matplotlib as plt\n",
    "import pandas as pd\n",
    "import numpy as np\n",
    "from imblearn.over_sampling import SMOTE\n",
    "from imblearn.over_sampling import SMOTENC\n",
    "from sklearn import metrics\n",
    "from sklearn.preprocessing import LabelEncoder\n",
    "import xgboost as xgb\n",
    "from xgboost.sklearn import XGBClassifier\n",
    "import types\n",
    "import impyute as impy"
   ]
  },
  {
   "cell_type": "code",
   "execution_count": 4,
   "id": "15a81c4e",
   "metadata": {},
   "outputs": [],
   "source": [
    "pd.set_option('display.max_rows', 500)\n",
    "pd.set_option('display.max_columns', 500)\n",
    "pd.set_option('display.width', 1000)\n",
    "plt.rcParams['figure.figsize'] = [30, 15]"
   ]
  },
  {
   "cell_type": "markdown",
   "id": "ab803e28",
   "metadata": {},
   "source": [
    "# get the data from google bucket as data farme"
   ]
  },
  {
   "cell_type": "code",
   "execution_count": null,
   "id": "f035b7d8",
   "metadata": {},
   "outputs": [],
   "source": [
    "# This snippet assumes you run setup first\n",
    "\n",
    "# This code copies file in your Google Bucket and loads it into a dataframe\n",
    "\n",
    "name_of_file_in_bucket = 'asthma_exaceb_df.csv'\n",
    "\n",
    "# get the bucket name\n",
    "my_bucket = os.getenv('WORKSPACE_BUCKET')\n",
    "\n",
    "# copy csv file from the bucket to the current working space\n",
    "os.system(f\"gsutil cp '{my_bucket}/data/{name_of_file_in_bucket}' .\")\n",
    "\n",
    "print(f'[INFO] {name_of_file_in_bucket} is successfully downloaded into your working space')\n",
    "\n",
    "# save dataframe in a csv file in the same workspace as the notebook\n",
    "my_dataframe = pd.read_csv(name_of_file_in_bucket)\n",
    "my_dataframe.head()\n"
   ]
  },
  {
   "cell_type": "markdown",
   "id": "763fe416",
   "metadata": {},
   "source": [
    "# More cleaning andc chcking data"
   ]
  },
  {
   "cell_type": "code",
   "execution_count": 12,
   "id": "2d39ba60",
   "metadata": {},
   "outputs": [],
   "source": [
    "\n",
    "df=pd.read_csv('asthma_exaceb_df.csv')"
   ]
  },
  {
   "cell_type": "code",
   "execution_count": null,
   "id": "37cead56",
   "metadata": {},
   "outputs": [],
   "source": [
    "#drop columns not needed anymore\n",
    "df=df.drop(columns=['stop_reason','Albumin','condition_end_datetime'])"
   ]
  },
  {
   "cell_type": "code",
   "execution_count": null,
   "id": "e33b4e83",
   "metadata": {},
   "outputs": [],
   "source": [
    "#df[df['exacerbation']==1]\n",
    "explore_id = pd.DataFrame(df.groupby(['person_id']).agg(['count']))\n",
    "explore_id.shape"
   ]
  },
  {
   "cell_type": "code",
   "execution_count": null,
   "id": "2cb231a0",
   "metadata": {},
   "outputs": [],
   "source": [
    "explore_date = pd.DataFrame(df.groupby(['drug_exposure_start_datetime']).agg(['count']))\n",
    "explore_date.shape"
   ]
  },
  {
   "cell_type": "code",
   "execution_count": null,
   "id": "02984f53",
   "metadata": {},
   "outputs": [],
   "source": [
    "df.shape"
   ]
  },
  {
   "cell_type": "code",
   "execution_count": null,
   "id": "0ffc21c2",
   "metadata": {},
   "outputs": [],
   "source": [
    "df[['person_id','race','gender','condition_start_datetime',\n",
    "    'measurement_datetime','drug_exposure_start_datetime',\n",
    "    'standard_concept_name_x','exacerbation']].sort_values(by=['person_id',\n",
    "                                                               'condition_start_datetime'],ascending=[True,True]).head(500)"
   ]
  },
  {
   "cell_type": "code",
   "execution_count": null,
   "id": "daabfeb9",
   "metadata": {},
   "outputs": [],
   "source": [
    "df.isnull().sum(axis = 0)"
   ]
  },
  {
   "cell_type": "code",
   "execution_count": null,
   "id": "08ddf197",
   "metadata": {},
   "outputs": [],
   "source": [
    "explore_exacerb = pd.DataFrame(df.groupby(['exacerbation'])['person_id'].agg('count'))\n",
    "explore_exacerb"
   ]
  },
  {
   "cell_type": "code",
   "execution_count": null,
   "id": "c3dcfa01",
   "metadata": {},
   "outputs": [],
   "source": [
    "#create date combining vist date for diagnois/condition and measurement (lab date) date\n",
    "df2=df\n",
    "df2['date'] = np.where((df2.condition_start_datetime > df2.measurement_datetime),df2.measurement_datetime, df2.condition_start_datetime)\n",
    "\n"
   ]
  },
  {
   "cell_type": "code",
   "execution_count": null,
   "id": "b9d860f6",
   "metadata": {},
   "outputs": [],
   "source": [
    "#make sure it is date time formaty\n",
    "df2['date']=pd.to_datetime(df2['date'])"
   ]
  },
  {
   "cell_type": "code",
   "execution_count": null,
   "id": "46cae05e",
   "metadata": {},
   "outputs": [],
   "source": [
    "#copy person_id to another id for eaily manipulation without loosing the original\n",
    "df2['id']=df2['person_id'].astype('float')"
   ]
  },
  {
   "cell_type": "code",
   "execution_count": null,
   "id": "92054965",
   "metadata": {},
   "outputs": [],
   "source": [
    "#subset to the variables needed for modeling\n",
    "df2[['person_id','race','gender','condition_start_datetime',\n",
    "    'measurement_datetime','drug_exposure_start_datetime',\n",
    "    'standard_concept_name_x','exacerbation','id', 'date']].sort_values(by=['person_id',\n",
    "                                                               'date'],ascending=[True,True]).head()"
   ]
  },
  {
   "cell_type": "code",
   "execution_count": null,
   "id": "f9325a1f",
   "metadata": {},
   "outputs": [],
   "source": [
    "# create an indicator for when the id changes (because )\n",
    "df2=df2.sort_values(by=['id','date'],ascending=[True,True])\n",
    "\n",
    "df2['flipper'] = np.where(((df2['id']) != (df2['id'].shift(1))),1, 0)\n",
    "df2.sort_values(by=['id','date'],ascending=[True,True]).head()"
   ]
  },
  {
   "cell_type": "code",
   "execution_count": null,
   "id": "84f6f606",
   "metadata": {},
   "outputs": [],
   "source": [
    "#remove survey response values with skipping pattern\n",
    "df2['race']=df2['race'].where(df2['race']!='PMI: Skip')"
   ]
  },
  {
   "cell_type": "code",
   "execution_count": null,
   "id": "0b39dd43",
   "metadata": {},
   "outputs": [],
   "source": [
    "#rename survey response values\n",
    "df2['highest_grade_edu']=df2['highest_grade_edu'].replace(['I prefer not to answer'],'no_reply')"
   ]
  },
  {
   "cell_type": "code",
   "execution_count": null,
   "id": "1c4181db",
   "metadata": {},
   "outputs": [],
   "source": [
    "#rename survey response values\n",
    "df2['smoked100cigarettes']=df2['smoked100cigarettes'].replace(['I prefer not to answer'],'no_reply')\n",
    "df2['smoked100cigarettes']=df2['smoked100cigarettes'].replace([\"Don't know\"], 'No') "
   ]
  },
  {
   "cell_type": "code",
   "execution_count": null,
   "id": "ebe9b85c",
   "metadata": {},
   "outputs": [],
   "source": [
    "#rename survey response values\n",
    "df2['marital_status']=df2['marital_status'].replace(['I prefer not to answer'],'no_reply')"
   ]
  },
  {
   "cell_type": "code",
   "execution_count": null,
   "id": "6d354514",
   "metadata": {},
   "outputs": [],
   "source": [
    "#rename survey response values\n",
    "df2['hookah_smoke']=df2['hookah_smoke'].replace(['I prefer not to answer'],'no_reply')\n",
    "df2['hookah_smoke']=df2['hookah_smoke'].replace([\"Don't know\"], 'No') "
   ]
  },
  {
   "cell_type": "code",
   "execution_count": null,
   "id": "8645997d",
   "metadata": {},
   "outputs": [],
   "source": [
    "#rename survey response values\n",
    "df2['current_home_own_rent']=df2['current_home_own_rent'].replace(['I prefer not to answer'],'no_reply')\n",
    "df2['current_home_own_rent']=df2['current_home_own_rent'].replace([\"Don't know\"], 'Other_Arrangemen') \n",
    "df2['current_home_own_rent']=df2['current_home_own_rent'].replace(['Current Home Own: Own'], 'Own') \n",
    "df2['current_home_own_rent']=df2['current_home_own_rent'].replace(['Current Home Own: Rent'], 'Rent') \n",
    "df2['current_home_own_rent']=df2['current_home_own_rent'].replace(['Current Home Own: Other Arrangement'], 'Other_Arrangemen')"
   ]
  },
  {
   "cell_type": "code",
   "execution_count": null,
   "id": "ca5c66f7",
   "metadata": {},
   "outputs": [],
   "source": [
    "#rename survey response values\n",
    "df2['Current_occupation_status']=df2['Current_occupation_status'].replace(['I prefer not to answer'],'no_reply')\n",
    "df2['Current_occupation_status']=df2['Current_occupation_status'].replace(['Not currently employed for wages'], 'unemployed') \n",
    "df2['Current_occupation_status']=df2['Current_occupation_status'].replace(['Employed for wages or self-employed'], 'employed') "
   ]
  },
  {
   "cell_type": "code",
   "execution_count": null,
   "id": "2feebb47",
   "metadata": {},
   "outputs": [],
   "source": [
    "#rename and recode survey response values\n",
    "df2['Health_insurance_cov']=df2['Health_insurance_cov'].replace(['I prefer not to answer'],'no_reply')\n",
    "df2['Health_insurance_cov']=df2['Health_insurance_cov'].replace([\"Don't know\",\"I don't have health insurance, self-pay\"], 'No') \n",
    "df2['Health_insurance_cov']=df2['Health_insurance_cov'].replace(['Medicaid, Medical Assistance, or any kind of government-assistance plan for those with low incomes or disability',\n",
    "                                                                           'TRICARE or other military health care',\n",
    "                                                                           'Any other type of health insurance or health coverage plan',\n",
    "                                                                           'Insurance purchased directly from an insurance company (by you or another family member)',\n",
    "                                                                           'Veterans Affairs (VA) (including those who have ever used or enrolled for VA health care)',\n",
    "                                                                           'Indian health service','Type Of Insurance: Government Assistance Plan',\n",
    "                                                                           'Type Of Insurance: Other Insurance Type'], 'Yes')"
   ]
  },
  {
   "cell_type": "code",
   "execution_count": null,
   "id": "45e3c7b9",
   "metadata": {},
   "outputs": [],
   "source": [
    "#rename and recode survey response values\n",
    "df2['alcohol6or_more']=df2['alcohol6or_more'].where(df2['alcohol6or_more']!='I prefer not to answer')\n",
    "df2['alcohol6or_more']=df2['alcohol6or_more'].replace(['Daily or almost daily'], 'daily') \n",
    "df2['alcohol6or_more']=df2['alcohol6or_more'].replace(['6 or More Drinks Occurrence: Never In Last Year'], 'never') \n",
    "df2['alcohol6or_more']=df2['alcohol6or_more'].replace(['Less than monthly','Weekly'], 'weekly') \n",
    "df2['alcohol6or_more']=df2['alcohol6or_more'].replace(['Monthly'], 'monthly') \n"
   ]
  },
  {
   "cell_type": "code",
   "execution_count": null,
   "id": "880d6e71",
   "metadata": {},
   "outputs": [],
   "source": [
    "#rename and recode survey response values\n",
    "df2['resreational_drug']=df2['resreational_drug'].replace([\n",
    "    'Marijuana, hash, THC, or grass', 'Hallucinations',\n",
    "    'Cocaine or crack','Sedatives, for example, sleeping pills, barbiturates, seconal, quaaludes, or chloral hydrate',\n",
    "    'Which Drugs Used: Methamphetamine Use',\n",
    "    'Which Drugs Used: Street Opioids Use', 'I prefer not to answer',\n",
    "    'Other (specify)',\n",
    "    'Inhalants or solvents, for example, amyl nitrite, nitrous oxide, glue, toluene or gasoline'], 'street_drugs')\n",
    "df2['resreational_drug']=df2['resreational_drug'].replace([\n",
    "    'Which Drugs Used: Prescription Stimulants Use',\n",
    "    'Which Drugs Used: Prescription Opioids Use'], 'prescription_stimulants_opiods')\n",
    "df2['resreational_drug']=df2['resreational_drug'].replace(['None of these'], 'No_rec_drug')"
   ]
  },
  {
   "cell_type": "code",
   "execution_count": null,
   "id": "e965baca",
   "metadata": {},
   "outputs": [],
   "source": [
    "#rename and recode survey response values\n",
    "df2['gender']=df2['gender'].replace(['Not man only, not woman only, prefer not to answer, or skipped'], 'neither_mf_skipped')"
   ]
  },
  {
   "cell_type": "code",
   "execution_count": null,
   "id": "31993a4c",
   "metadata": {},
   "outputs": [],
   "source": [
    "#rename and recode survey response values\n",
    "df2['electronic_cigarate_smoke']=df2['electronic_cigarate_smoke'].where(df2['electronic_cigarate_smoke']!='I prefer not to answer')\n",
    "df2['electronic_cigarate_smoke']=df2['electronic_cigarate_smoke'].replace([\"Don't know\"], 'No')"
   ]
  },
  {
   "cell_type": "code",
   "execution_count": null,
   "id": "1dd36b8b",
   "metadata": {},
   "outputs": [],
   "source": [
    "#rename and recode survey response values\n",
    "df2['Health_insurance_type']=df2['Health_insurance_type'].replace(['I prefer not to answer'],'no_reply')\n",
    "df2['Health_insurance_type']=df2['Health_insurance_type'].replace(['Private health insurance'], 'private') \n",
    "df2['Health_insurance_type']=df2['Health_insurance_type'].replace([\"Don't know\",\n",
    "                                                                   'No coverage of any type'], 'no_coverage')\n",
    "df2['Health_insurance_type']=df2['Health_insurance_type'].replace(['Single service plan (e.g. dental, vision, prescriptions)',\n",
    "                                                                   'Medi-Gap'], 'partial_coverage')\n",
    "df2['Health_insurance_type']=df2['Health_insurance_type'].replace(['Medicare', 'Other government program','Medicaid (if available, display plan name)',\n",
    "                                                                   'State-sponsored health plan (if available, display state plan name)',\n",
    "                                                                   \"SCHIP (CHIP/Children's health insurance program)\",\n",
    "                                                                   'Military health care (tricare/VA, Champ-VA)'], 'government')"
   ]
  },
  {
   "cell_type": "code",
   "execution_count": null,
   "id": "0a93af83",
   "metadata": {},
   "outputs": [],
   "source": [
    "#more subset after clean up\n",
    "df3=df2[['person_id','BMI','Eosinophils','Leukocytes','Lymphocytes','Monocytes','Neutrophils',\n",
    "         'Protein','Urobilinogen','race','gender','alcohol6or_more','Current_occupation_status','Health_insurance_cov',\n",
    "         'current_home_own_rent','electronic_cigarate_smoke','hookah_smoke','howmuch_emotional_problem_7yrs',\n",
    "         'stable_house_concern','marital_status','resreational_drug','smoked100cigarettes',\n",
    "         'electronic_cigarate_smoke','hh_income_last_yr','highest_grade_edu',\n",
    "         'drug_class', 'exacerbation','date','id','flipper']]\n"
   ]
  },
  {
   "cell_type": "markdown",
   "id": "1f9f2f74",
   "metadata": {},
   "source": [
    "# impute the NAs"
   ]
  },
  {
   "cell_type": "code",
   "execution_count": null,
   "id": "4b7fd866",
   "metadata": {},
   "outputs": [],
   "source": [
    "#impute forward using a last valid value for each patient\n",
    "df4=df3.groupby('id').fillna(method='ffill', axis=0)\n"
   ]
  },
  {
   "cell_type": "code",
   "execution_count": null,
   "id": "39b6ddbb",
   "metadata": {},
   "outputs": [],
   "source": [
    "#impute backward using a latest valid value for each patient\n",
    "df4['id']=df4['person_id']\n",
    "df4=df4.groupby('id').fillna(method='bfill', axis=0)"
   ]
  },
  {
   "cell_type": "code",
   "execution_count": null,
   "id": "580db3e1",
   "metadata": {},
   "outputs": [],
   "source": [
    "#check what is left after each imputation \n",
    "round(df2.isnull().mean()*100,2).plot.bar() "
   ]
  },
  {
   "cell_type": "code",
   "execution_count": null,
   "id": "4aa286c3",
   "metadata": {},
   "outputs": [],
   "source": [
    "#check what is left after each imputation \n",
    "round(df4.isnull().mean()*100,2).plot.bar() "
   ]
  },
  {
   "cell_type": "code",
   "execution_count": null,
   "id": "f96f7ac8",
   "metadata": {},
   "outputs": [],
   "source": [
    "#check what is left after each imputation \n",
    "round(df4.isnull().mean()*100,2)"
   ]
  },
  {
   "cell_type": "code",
   "execution_count": null,
   "id": "be3e7fe2",
   "metadata": {},
   "outputs": [],
   "source": [
    "#send id and date index so that we can impute the rest\n",
    "df4=df4.set_index(['person_id', 'date'])"
   ]
  },
  {
   "cell_type": "code",
   "execution_count": null,
   "id": "4a2a1932",
   "metadata": {},
   "outputs": [],
   "source": [
    "# impute remaining with most ferquent value in each column\n",
    "#from sklearn.impute import KNNImputer\n",
    "from sklearn.impute import SimpleImputer\n",
    "\n",
    "imp_most = SimpleImputer(missing_values=np.nan, strategy='most_frequent')\n",
    "df4_imp=pd.DataFrame(imp_most.fit_transform(df4))\n",
    "df4_imp.columns = df4.columns\n",
    "df4_imp.index = df4.index"
   ]
  },
  {
   "cell_type": "code",
   "execution_count": null,
   "id": "8a1fe3ba",
   "metadata": {},
   "outputs": [],
   "source": [
    "#bring back id and date\n",
    "df4=df4_imp.reset_index(drop=False)"
   ]
  },
  {
   "cell_type": "code",
   "execution_count": null,
   "id": "e4591ca9",
   "metadata": {},
   "outputs": [],
   "source": [
    "#reset index and sort data\n",
    "df4=df4.sort_values(by=['person_id', 'date'], ascending=[True, True])\n",
    "df4.reset_index(level=0, inplace=True)"
   ]
  },
  {
   "cell_type": "markdown",
   "id": "82d70e4f",
   "metadata": {},
   "source": [
    "# create a dummy for categorical variable and save the data to google bucket"
   ]
  },
  {
   "cell_type": "code",
   "execution_count": null,
   "id": "6aa68d93",
   "metadata": {},
   "outputs": [],
   "source": [
    "#create \n",
    "df4=pd.get_dummies(df4, prefix_sep='_', \n",
    "                   columns=['race','gender','alcohol6or_more','Current_occupation_status',\n",
    "                            'Health_insurance_cov','current_home_own_rent','electronic_cigarate_smoke',\n",
    "                            'hookah_smoke','howmuch_emotional_problem_7yrs','stable_house_concern',\n",
    "                            'marital_status','resreational_drug','smoked100cigarettes','electronic_cigarate_smoke',\n",
    "                            'hh_income_last_yr','highest_grade_edu','drug_class'])"
   ]
  },
  {
   "cell_type": "code",
   "execution_count": null,
   "id": "39a12b66",
   "metadata": {},
   "outputs": [],
   "source": [
    "# This snippet assumes you run setup first\n",
    "\n",
    "# This code saves your dataframe into a csv file in a \"data\" folder in Google Bucket\n",
    "\n",
    "# Replace df with THE NAME OF YOUR DATAFRAME\n",
    "my_dataframe = df4  \n",
    "\n",
    "# Replace 'test.csv' with THE NAME of the file you're going to store in the bucket (don't delete the quotation marks)\n",
    "destination_filename = 'exacerbation_imputed_dummiezed.csv'\n",
    "\n",
    "\n",
    "# save dataframe in a csv file in the same workspace as the notebook\n",
    "my_dataframe.to_csv(destination_filename, index=False)\n",
    "\n",
    "# get the bucket name\n",
    "my_bucket = os.getenv('WORKSPACE_BUCKET')\n",
    "\n",
    "# copy csv file to the bucket\n",
    "os.system(f\"gsutil cp './{destination_filename}' '{my_bucket}/data/'\")\n",
    "print(f'[INFO] {destination_filename} is successfully uploaded in your bucket.')\n"
   ]
  },
  {
   "cell_type": "markdown",
   "id": "8869b563",
   "metadata": {},
   "source": [
    "# load the data back into dataframe and explore"
   ]
  },
  {
   "cell_type": "code",
   "execution_count": null,
   "id": "d7ecdeec",
   "metadata": {},
   "outputs": [],
   "source": [
    "# This snippet assumes you run setup first\n",
    "\n",
    "# This code copies file in your Google Bucket and loads it into a dataframe\n",
    "\n",
    "name_of_file_in_bucket = 'exacerbation_imputed_dummiezed.csv'\n",
    "\n",
    "# get the bucket name\n",
    "my_bucket = os.getenv('WORKSPACE_BUCKET')\n",
    "\n",
    "# copy csv file from the bucket to the current working space\n",
    "os.system(f\"gsutil cp '{my_bucket}/data/{name_of_file_in_bucket}' .\")\n",
    "\n",
    "print(f'[INFO] {name_of_file_in_bucket} is successfully downloaded into your working space')\n",
    "# save dataframe in a csv file in the same workspace as the notebook\n",
    "my_dataframe = pd.read_csv(name_of_file_in_bucket)\n",
    "my_dataframe.head()\n"
   ]
  },
  {
   "cell_type": "code",
   "execution_count": 5,
   "id": "91fc0ac1",
   "metadata": {},
   "outputs": [],
   "source": [
    "df4=pd.read_csv('exacerbation_imputed_dummiezed.csv')\n"
   ]
  },
  {
   "cell_type": "code",
   "execution_count": 5,
   "id": "eb8513c3",
   "metadata": {},
   "outputs": [
    {
     "data": {
      "text/plain": [
       "<AxesSubplot:>"
      ]
     },
     "execution_count": 5,
     "metadata": {},
     "output_type": "execute_result"
    },
    {
     "data": {
      "image/png": "[encoded data removed]",
      "text/plain": [
       "<Figure size 720x432 with 1 Axes>"
      ]
     },
     "metadata": {
      "needs_background": "light"
     },
     "output_type": "display_data"
    }
   ],
   "source": [
    "#Boxplot by selecting only the required columns\n",
    "df4.boxplot(column=['Eosinophils', 'Leukocytes', 'Lymphocytes', \n",
    "                    'Monocytes', 'Neutrophils'],figsize=(10, 6))\n",
    "\n",
    "#'BMI', 'Protein', 'Urobilinogen'"
   ]
  },
  {
   "cell_type": "code",
   "execution_count": 60,
   "id": "d0adefcf",
   "metadata": {},
   "outputs": [
    {
     "data": {
      "text/plain": [
       "Eosinophils     152.314740\n",
       "Leukocytes       96.815496\n",
       "Lymphocytes     518.063978\n",
       "Monocytes       518.787396\n",
       "Neutrophils     518.180906\n",
       "BMI             162.480859\n",
       "Protein          20.791425\n",
       "Urobilinogen     14.473116\n",
       "dtype: float64"
      ]
     },
     "execution_count": 60,
     "metadata": {},
     "output_type": "execute_result"
    }
   ],
   "source": [
    "df4[['Eosinophils', 'Leukocytes', 'Lymphocytes', \n",
    "    'Monocytes', 'Neutrophils','BMI',\n",
    "    'Protein', 'Urobilinogen']].skew()"
   ]
  },
  {
   "cell_type": "code",
   "execution_count": null,
   "id": "70cb8f8f",
   "metadata": {},
   "outputs": [],
   "source": [
    "#Create a new data frame that contains the exacerbation records. Rename date to exacerbation_date.\n",
    "#df4_exacerb=df4[df4['exacerbation'] == 1]\n",
    "#df4_exacerb=df4_exacerb[['person_id','date']]\n",
    "#df4_exacerb=df4_exacerb.rename(index=str, columns={\"date\": \"exacerbation_date\"})\n",
    "\n",
    "#df4=df4.sort_values(by=['person_id'], ascending=[True])\n",
    "#df4_exacerb=df4_exacerb.sort_values(by=['person_id'],ascending=[True])\n"
   ]
  },
  {
   "cell_type": "code",
   "execution_count": null,
   "id": "de0c71f2",
   "metadata": {},
   "outputs": [],
   "source": [
    "#merge the exacerbation_date to each Iperson_id\n",
    "#df5=pd.merge(df4, df4_exacerb, on='person_id', how='left')"
   ]
  },
  {
   "cell_type": "code",
   "execution_count": null,
   "id": "4dd51983",
   "metadata": {},
   "outputs": [],
   "source": [
    "#df4=df.drop(columns='index')"
   ]
  },
  {
   "cell_type": "code",
   "execution_count": null,
   "id": "eb40408c",
   "metadata": {},
   "outputs": [],
   "source": [
    "#df5[['person_id','date','exacerbation_date']].head(200)"
   ]
  },
  {
   "cell_type": "code",
   "execution_count": null,
   "id": "ff812155",
   "metadata": {},
   "outputs": [],
   "source": [
    "#For each patient record, calculate the number of months until exacerbation\n",
    "#df5=df5.sort_values(by=['person_id','date'], ascending=[True, True])\n",
    "#df5['exacerbation_date'] = pd.to_datetime(df5['exacerbation_date'])\n",
    "#df5['date'] = pd.to_datetime(df5['date'])\n",
    "#df5['C'] = df5['exacerbation_date'] - df5['date']\n",
    "#df5['months_to_exacerbation'] = df5['C'] / np.timedelta64(1, 'Y')"
   ]
  },
  {
   "cell_type": "code",
   "execution_count": null,
   "id": "86e953dc",
   "metadata": {},
   "outputs": [],
   "source": [
    "#Clean up and sort the records by person_id and date.\n",
    "#df5=df5.drop(columns=['index'])\n",
    "#df5=df5.sort_values(by=['person_id', 'date'], ascending=[True,True])\n",
    "#df5.reset_index(inplace=True)"
   ]
  },
  {
   "cell_type": "code",
   "execution_count": null,
   "id": "489f4f2e",
   "metadata": {},
   "outputs": [],
   "source": [
    "#define your feature window by which we will aggregate our measurements \n",
    "#target_window=1"
   ]
  },
  {
   "cell_type": "code",
   "execution_count": null,
   "id": "a1f19b2c",
   "metadata": {},
   "outputs": [],
   "source": [
    "#Create a new variable, EXACERB_TARGET. It is equal to 1 if the record proceeds a failure by “failure_window” months or less\n",
    "#df5['EXACERB_TARGET'] = np.where(((df5['months_to_exacerbation'] < target_window) & ((df5['months_to_exacerbation']>=0))), 1, 0)\n",
    "#tips_summed = df5.groupby(['EXACERB_TARGET'])['exacerbation'].count()\n",
    "#tips_summed\n"
   ]
  },
  {
   "cell_type": "code",
   "execution_count": null,
   "id": "02f8026a",
   "metadata": {},
   "outputs": [],
   "source": [
    "#df5=pd.get_dummies(df4, prefix_sep='_', \n",
    "                   #columns=['race','gender','alcohol6or_more','Current_occupation_status',\n",
    "                            #'Health_insurance_cov','current_home_own_rent','electronic_cigarate_smoke',\n",
    "                            #'hookah_smoke','howmuch_emotional_problem_7yrs','stable_house_concern',\n",
    "                            #'marital_status','resreational_drug','smoked100cigarettes','electronic_cigarate_smoke',\n",
    "                            #'hh_income_last_yr','highest_grade_edu','drug_class'])"
   ]
  },
  {
   "cell_type": "markdown",
   "id": "0f5ab099",
   "metadata": {},
   "source": [
    "# split the data and  model"
   ]
  },
  {
   "cell_type": "code",
   "execution_count": 7,
   "id": "5f8cee73",
   "metadata": {},
   "outputs": [
    {
     "data": {
      "text/plain": [
       "(34243, 1)"
      ]
     },
     "execution_count": 7,
     "metadata": {},
     "output_type": "execute_result"
    }
   ],
   "source": [
    "#get training and test data\n",
    "#Get a Unique List of All person_ids\n",
    "df4_a=df4\n",
    "df4_uniq_id=df4_a.drop_duplicates(subset='person_id')\n",
    "df4_uniq_id=df4_uniq_id[['person_id']]\n",
    "df4_uniq_id.shape"
   ]
  },
  {
   "cell_type": "code",
   "execution_count": 8,
   "id": "a95e75d2",
   "metadata": {},
   "outputs": [],
   "source": [
    "#Create a new variable with a random number between 0 and 1.\n",
    "np.random.seed(42)\n",
    "df4_uniq_id['randy'] = (np.random.randint(0, 10000, df4_uniq_id.shape[0]))/10000\n",
    "df4_uniq_id=df4_uniq_id[['person_id', 'randy']]"
   ]
  },
  {
   "cell_type": "code",
   "execution_count": 9,
   "id": "4c0b4144",
   "metadata": {},
   "outputs": [],
   "source": [
    "# divid sample to training and testing with 35%, 30%, 30% chance  \n",
    "df4_uniq_id['MODELING_GROUP'] = np.where(((df4_uniq_id['randy'] <= 0.35)), \n",
    "                                         'TRAINING', np.where(((df4_uniq_id['randy'] <= 0.65)), \n",
    "                                                              'VALIDATION', 'TESTING'))\n",
    "\n"
   ]
  },
  {
   "cell_type": "code",
   "execution_count": 10,
   "id": "c2cef61b",
   "metadata": {},
   "outputs": [
    {
     "data": {
      "text/plain": [
       "MODELING_GROUP\n",
       "TESTING       11946\n",
       "TRAINING      12058\n",
       "VALIDATION    10239\n",
       "Name: randy, dtype: int64"
      ]
     },
     "execution_count": 10,
     "metadata": {},
     "output_type": "execute_result"
    }
   ],
   "source": [
    "#count how many peerson gets exacerbation in each group.\n",
    "tips_summed = df4_uniq_id.groupby(['MODELING_GROUP'])['randy'].count()\n",
    "tips_summed"
   ]
  },
  {
   "cell_type": "code",
   "execution_count": 15,
   "id": "f80ad901",
   "metadata": {},
   "outputs": [],
   "source": [
    "#Append the Group of each id to each individual record.\n",
    "df4=df4.sort_values(by=['person_id'], ascending=[True])\n",
    "df4_uniq_id=df4_uniq_id.sort_values(by=['person_id'], ascending=[True])\n",
    "df4 =df4.merge(df4_uniq_id, on=['person_id'], how='inner')"
   ]
  },
  {
   "cell_type": "code",
   "execution_count": 16,
   "id": "714e83ff",
   "metadata": {},
   "outputs": [
    {
     "data": {
      "text/plain": [
       "MODELING_GROUP\n",
       "TESTING       34076.0\n",
       "TRAINING      33236.0\n",
       "VALIDATION    28974.0\n",
       "Name: exacerbation, dtype: float64"
      ]
     },
     "execution_count": 16,
     "metadata": {},
     "output_type": "execute_result"
    }
   ],
   "source": [
    "# count how many exacerbation targets are in each group.\n",
    "tips_summed = df4.groupby(['MODELING_GROUP'])['exacerbation'].sum()\n",
    "tips_summed"
   ]
  },
  {
   "cell_type": "code",
   "execution_count": 17,
   "id": "d7a633cc",
   "metadata": {},
   "outputs": [],
   "source": [
    "#Create a separate data frame for the training data and clean it up. We will use this data set to build the model.\n",
    "df_training=df4[df4['MODELING_GROUP'] == 'TRAINING']\n",
    "df_training=df_training.drop(columns=['MODELING_GROUP','index','randy',\n",
    "                                      'randy_x','randy_y','MODELING_GROUP_x',\n",
    "                                      'MODELING_GROUP_y','flipper'])"
   ]
  },
  {
   "cell_type": "code",
   "execution_count": 18,
   "id": "03d9c6f5",
   "metadata": {},
   "outputs": [
    {
     "data": {
      "text/plain": [
       "(935396, 97)"
      ]
     },
     "execution_count": 18,
     "metadata": {},
     "output_type": "execute_result"
    }
   ],
   "source": [
    "#Create a separate data frame for the training and testing data sets. \n",
    "df_train_test=df4[df4['MODELING_GROUP'] != 'VALIDATION']\n",
    "df_train_test=df_train_test.drop(columns=['randy','flipper',])\n",
    "df_train_test.shape"
   ]
  },
  {
   "cell_type": "code",
   "execution_count": 19,
   "id": "facd94d0",
   "metadata": {},
   "outputs": [],
   "source": [
    "#Create a separate data frame for all the data. We will use this to validate the model and compare the accuracy of all groups.\n",
    "df_total=df4.drop(columns=['index','randy','flipper'])\n"
   ]
  },
  {
   "cell_type": "code",
   "execution_count": 20,
   "id": "439c7f9a",
   "metadata": {},
   "outputs": [],
   "source": [
    "# drop any duplicated column\n",
    "df_total = df_total.loc[:,~df_total.columns.duplicated()]\n",
    "df_training=df_training.loc[:,~df_training.columns.duplicated()]"
   ]
  },
  {
   "cell_type": "code",
   "execution_count": 21,
   "id": "33ee1508",
   "metadata": {},
   "outputs": [],
   "source": [
    "\n",
    "#Define the Training features and Target.\n",
    "training_features = df_training[df_training.columns.difference(['exacerbation', 'person_id','date'])]\n",
    "training_target=df_training[['exacerbation']]\n",
    "\n",
    "#make sure the data is numeric\n",
    "training_target = training_target['exacerbation'].astype(int)\n",
    "training_features = training_features.apply(pd.to_numeric) \n"
   ]
  },
  {
   "cell_type": "code",
   "execution_count": 22,
   "id": "17a381ff",
   "metadata": {},
   "outputs": [],
   "source": [
    "from imblearn.over_sampling import SMOTE\n",
    "from imblearn.over_sampling import SMOTENC\n",
    "smx = SMOTE(random_state=12)\n",
    "x_res, y_res = smx.fit_resample(training_features, training_target.values.ravel())"
   ]
  },
  {
   "cell_type": "code",
   "execution_count": 23,
   "id": "87f40846",
   "metadata": {},
   "outputs": [],
   "source": [
    "from sklearn import preprocessing\n",
    "import numpy as np\n",
    "min_max_scaler = preprocessing.MinMaxScaler()\n",
    "x_res = min_max_scaler.fit_transform(x_res)\n",
    "#df5_testing_features = min_max_scaler.fit_transform(df5_testing_features)"
   ]
  },
  {
   "cell_type": "code",
   "execution_count": 24,
   "id": "fc957600",
   "metadata": {},
   "outputs": [],
   "source": [
    "#Convert the SMOTE output back to complete data frames with independent and dependent variables. \n",
    "#Format the Independent Variable.\n",
    "df_x=pd.DataFrame(x_res)\n",
    "df_x.columns =training_features.columns"
   ]
  },
  {
   "cell_type": "code",
   "execution_count": 25,
   "id": "3bcec441",
   "metadata": {},
   "outputs": [],
   "source": [
    "#Convert the SMOTE output back to complete data frames with independent and dependent variables.\n",
    "#Format the Dependent Variable.\n",
    "df_y=pd.DataFrame(y_res)\n",
    "df_y.columns = ['exacerbation']"
   ]
  },
  {
   "cell_type": "code",
   "execution_count": 26,
   "id": "b1deb7bf",
   "metadata": {},
   "outputs": [],
   "source": [
    "#Convert the SMOTE output back to complete data frames with independent and dependent variables.\n",
    "#Merge the dependent and independent variables post SMOTE into a dataframe.\n",
    "df_balanced = pd.concat([df_y, df_x], axis=1)"
   ]
  },
  {
   "cell_type": "code",
   "execution_count": 27,
   "id": "caaa904d",
   "metadata": {},
   "outputs": [],
   "source": [
    "#Build the model on the balanced training dataset\n",
    "features = [x for x in df_balanced.columns if x not in ['exacerbation','person_id']]  \n",
    "dependent=pd.DataFrame(df_balanced['exacerbation'])\n",
    "independent=df_balanced.drop(columns=['exacerbation'])\n",
    "\n",
    "#make sure everything is numeric \n",
    "independent = independent.apply(pd.to_numeric) \n",
    "df_balanced = df_balanced.apply(pd.to_numeric)"
   ]
  },
  {
   "cell_type": "code",
   "execution_count": 28,
   "id": "3d35829a",
   "metadata": {},
   "outputs": [],
   "source": [
    "#Define model specs.\n",
    "import matplotlib.pylab as plt\n",
    "%matplotlib inline\n",
    "def evaluate_model(alg, train, target, predictors,  early_stopping_rounds=1):\n",
    "    alg.fit(train[predictors], target['exacerbation'], eval_metric='auc')\n",
    "    #Predict training set:\n",
    "    dtrain_predictions = alg.predict(train[predictors])\n",
    "    dtrain_predprob = alg.predict_proba(train[predictors])[:,1]\n",
    "    feat_imp = pd.Series(alg.get_booster().get_fscore()).sort_values(ascending=False).nlargest(15) \n",
    "    feat_imp.plot(kind='bar', title='Feature Importance', color='g') \n",
    "    plt.ylabel('Feature Importance Score')\n",
    "    \n",
    "    #Print model report:\n",
    "    print(\"\\nModel Report\")\n",
    "    print(\"Accuracy : %.4g\" % metrics.accuracy_score(target['exacerbation'].values, dtrain_predictions))\n",
    "    print(\"AUC Score (Balanced): %f\" % metrics.roc_auc_score(target['exacerbation'], dtrain_predprob))\n",
    "    \n",
    "\n"
   ]
  },
  {
   "cell_type": "code",
   "execution_count": 29,
   "id": "6ee175de",
   "metadata": {},
   "outputs": [],
   "source": [
    "#initializing our model with default model parameters\n",
    "#conda install -c conda-forge scikit-learn\n",
    "#pip install xgboost==0.81\n",
    "from xgboost import XGBClassifier\n",
    "xgb0 = XGBClassifier(objective= 'binary:logistic')"
   ]
  },
  {
   "cell_type": "code",
   "execution_count": 30,
   "id": "adfd01d3",
   "metadata": {},
   "outputs": [
    {
     "name": "stderr",
     "output_type": "stream",
     "text": [
      "/home/jupyter-user/notebooks/packages/xgboost/sklearn.py:1146: UserWarning: The use of label encoder in XGBClassifier is deprecated and will be removed in a future release. To remove this warning, do the following: 1) Pass option use_label_encoder=False when constructing XGBClassifier object; and 2) Encode your labels (y) as integers starting with 0, i.e. 0, 1, 2, ..., [num_class - 1].\n",
      "  warnings.warn(label_encoder_deprecation_msg, UserWarning)\n"
     ]
    },
    {
     "name": "stdout",
     "output_type": "stream",
     "text": [
      "\n",
      "Model Report\n",
      "Accuracy : 0.9322\n",
      "AUC Score (Balanced): 0.980859\n"
     ]
    },
    {
     "data": {
      "image/png": "[encoded data removed]",
      "text/plain": [
       "<Figure size 432x288 with 1 Axes>"
      ]
     },
     "metadata": {
      "needs_background": "light"
     },
     "output_type": "display_data"
    }
   ],
   "source": [
    "plt.rcParams.update({'font.size': 12})\n",
    "#Evaluate the model using an AUC and accuacy metrics\n",
    "from sklearn.metrics import accuracy_score\n",
    "from sklearn import metrics\n",
    "evaluate_model(xgb0, independent, dependent,features)"
   ]
  },
  {
   "cell_type": "code",
   "execution_count": 31,
   "id": "8b5cb8d7",
   "metadata": {},
   "outputs": [],
   "source": [
    "#Isolate the unbalanced training and testing data sets.\n",
    "df_testing=df_train_test[df_train_test['MODELING_GROUP'] == 'TESTING'].copy()\n",
    "df_training=df_train_test[df_train_test['MODELING_GROUP'] != 'TESTING'].copy()"
   ]
  },
  {
   "cell_type": "code",
   "execution_count": 32,
   "id": "9a29d241",
   "metadata": {},
   "outputs": [
    {
     "name": "stdout",
     "output_type": "stream",
     "text": [
      "Accuracy : 0.9274\n",
      "AUC Score (Train): 0.617201\n"
     ]
    }
   ],
   "source": [
    "#Score the unbalanced training data with a 50% cut-off.\n",
    "df_training['P_exacerbate']= xgb0.predict_proba(df_training[features])[:,1];\n",
    "df_training['Y_exacerbate'] = np.where(((df_training.P_exacerbate <= .50)), 0, 1)\n",
    "#Print model report:\n",
    "print(\"Accuracy : %.4g\" % metrics.accuracy_score(df_training['exacerbation'].values, df_training['Y_exacerbate']))\n",
    "print(\"AUC Score (Train): %f\" % metrics.roc_auc_score(df_training['exacerbation'], df_training['P_exacerbate']))"
   ]
  },
  {
   "cell_type": "code",
   "execution_count": 37,
   "id": "a4bf42e4",
   "metadata": {},
   "outputs": [
    {
     "name": "stdout",
     "output_type": "stream",
     "text": [
      "Accuracy : 0.9513\n",
      "AUC Score (Train): 0.929729\n"
     ]
    }
   ],
   "source": [
    "#Score the unbalanced training data with a 67% cut-off.\n",
    "df_training['P_exacerbate']= xgb0.predict_proba(df_training[features])[:,1];\n",
    "df_training['Y_exacerbate'] = np.where(((df_training.P_exacerbate <= .67)), 0, 1)\n",
    "#Print model report:\n",
    "print(\"Accuracy : %.4g\" % metrics.accuracy_score(df_training['exacerbation'].values, df_training['Y_exacerbate']))\n",
    "print(\"AUC Score (Train): %f\" % metrics.roc_auc_score(df_training['exacerbation'], df_training['P_exacerbate']))"
   ]
  },
  {
   "cell_type": "code",
   "execution_count": 43,
   "id": "c96d72a3",
   "metadata": {},
   "outputs": [
    {
     "name": "stdout",
     "output_type": "stream",
     "text": [
      "Accuracy : 0.9147\n",
      "AUC Score (Test): 0.619128\n"
     ]
    }
   ],
   "source": [
    "#apply the model to the testing data set\n",
    "df_testing['P_exacerbate']= xgb0.predict_proba(df_testing[features])[:,1];\n",
    "df_testing['Y_exacerbate'] = np.where(((df_testing.P_exacerbate <= .67)), 0, 1)\n",
    "\n",
    "#Print model report:\n",
    "print(\"Accuracy : %.4g\" % metrics.accuracy_score(df_testing['exacerbation'].values, df_testing['Y_exacerbate']))\n",
    "print(\"AUC Score (Test): %f\" % metrics.roc_auc_score(df_testing['exacerbation'], df_testing['P_exacerbate']))\n"
   ]
  },
  {
   "cell_type": "code",
   "execution_count": 40,
   "id": "b585ee83",
   "metadata": {},
   "outputs": [],
   "source": [
    "from sklearn.metrics import roc_curve\n",
    "# roc curve for models\n",
    "fpr1, tpr1, thresh1 = roc_curve(df_testing['exacerbation'], df_testing['P_exacerbate'], pos_label=1)\n",
    "\n",
    "# roc curve for tpr = fpr \n",
    "random_probs = [0 for i in range(len(df_testing['exacerbation']))]\n",
    "p_fpr, p_tpr, _ = roc_curve(df_testing['exacerbation'], random_probs, pos_label=1)"
   ]
  },
  {
   "cell_type": "code",
   "execution_count": 41,
   "id": "94fa1e24",
   "metadata": {},
   "outputs": [
    {
     "name": "stderr",
     "output_type": "stream",
     "text": [
      "No handles with labels found to put in legend.\n"
     ]
    },
    {
     "data": {
      "image/png": "[encoded data removed]",
      "text/plain": [
       "<Figure size 576x396 with 1 Axes>"
      ]
     },
     "metadata": {},
     "output_type": "display_data"
    }
   ],
   "source": [
    "## matplotlib\n",
    "import matplotlib.pyplot as plt\n",
    "plt.style.use('seaborn')\n",
    "\n",
    "# plot roc curves\n",
    "plt.plot(fpr1, tpr1, linestyle='--',color='orange')\n",
    "\n",
    "plt.plot(p_fpr, p_tpr, linestyle='--', color='blue')\n",
    "# title\n",
    "plt.title('ROC curve')\n",
    "# x label\n",
    "plt.xlabel('False Positive Rate')\n",
    "# y label\n",
    "plt.ylabel('True Positive rate')\n",
    "\n",
    "plt.legend(loc='best')\n",
    "plt.savefig('ROC',dpi=300)\n",
    "plt.show();"
   ]
  },
  {
   "cell_type": "code",
   "execution_count": 94,
   "id": "cf719c0f",
   "metadata": {},
   "outputs": [
    {
     "name": "stdout",
     "output_type": "stream",
     "text": [
      "exacerbation     0.0    1.0\n",
      "Y_exacerbate               \n",
      "0             433084  32200\n",
      "1               8384   1876\n"
     ]
    }
   ],
   "source": [
    "print(pd.crosstab(df_testing.Y_exacerbate, df_testing.exacerbation, dropna=False))"
   ]
  },
  {
   "cell_type": "code",
   "execution_count": null,
   "id": "58b01fe0",
   "metadata": {},
   "outputs": [],
   "source": [
    "from sklearn.metrics import plot_confusion_matrix\n",
    "# Plot non-normalized confusion matrix\n",
    "titles_options = [(\"Confusion matrix, without normalization\", None),\n",
    "                  (\"Normalized confusion matrix\", 'true')]\n",
    "for title, normalize in titles_options:\n",
    "    disp = plot_confusion_matrix(xgb0, df_x, df_y,\n",
    "                                 display_labels=df_y.exacerbation,\n",
    "                                 cmap=plt.cm.Blues,\n",
    "                                 normalize=normalize)\n",
    "    disp.ax_.set_title(title)\n",
    "\n",
    "print(title)\n",
    "print(disp.confusion_matrix)"
   ]
  },
  {
   "cell_type": "markdown",
   "id": "2860b119",
   "metadata": {},
   "source": [
    "# simipler model"
   ]
  },
  {
   "cell_type": "code",
   "execution_count": 6,
   "id": "8612f941",
   "metadata": {},
   "outputs": [],
   "source": [
    "\n",
    "df5=pd.read_csv('exacerbation_imputed_dummiezed.csv')"
   ]
  },
  {
   "cell_type": "code",
   "execution_count": 7,
   "id": "4422cb75",
   "metadata": {},
   "outputs": [
    {
     "data": {
      "text/plain": [
       "(34243, 1)"
      ]
     },
     "execution_count": 7,
     "metadata": {},
     "output_type": "execute_result"
    }
   ],
   "source": [
    "## get training and test data\n",
    "#Get a Unique List of All person_ids\n",
    "df5_a=df5\n",
    "df5_uniq_id=df5_a.drop_duplicates(subset='person_id')\n",
    "df5_uniq_id=df5_uniq_id[['person_id']]\n",
    "df5_uniq_id.shape"
   ]
  },
  {
   "cell_type": "code",
   "execution_count": 8,
   "id": "01c41aef",
   "metadata": {},
   "outputs": [],
   "source": [
    "#Create a new variable with a random number between 0 and 1.\n",
    "np.random.seed(42)\n",
    "df5_uniq_id['randy'] = (np.random.randint(0, 10000, df5_uniq_id.shape[0]))/10000\n",
    "df5_uniq_id=df5_uniq_id[['person_id', 'randy']]"
   ]
  },
  {
   "cell_type": "code",
   "execution_count": 9,
   "id": "8f44621f",
   "metadata": {},
   "outputs": [],
   "source": [
    "# divid sample to training, testing with 75% and 25chance  \n",
    "df5_uniq_id['MODELING_GROUP'] = np.where((df5_uniq_id['randy'] <= 0.75), \n",
    "                                         'TRAINING',  'TESTING')\n"
   ]
  },
  {
   "cell_type": "code",
   "execution_count": 10,
   "id": "8ab38aee",
   "metadata": {},
   "outputs": [
    {
     "data": {
      "text/plain": [
       "MODELING_GROUP\n",
       "TESTING      8509\n",
       "TRAINING    25734\n",
       "Name: randy, dtype: int64"
      ]
     },
     "execution_count": 10,
     "metadata": {},
     "output_type": "execute_result"
    }
   ],
   "source": [
    "#count how many peerson gets exacerbation in each group.\n",
    "tips_summed = df5_uniq_id.groupby(['MODELING_GROUP'])['randy'].count()\n",
    "tips_summed"
   ]
  },
  {
   "cell_type": "code",
   "execution_count": 14,
   "id": "e2e987b0",
   "metadata": {},
   "outputs": [],
   "source": [
    "#Append the Group of each id to each individual record.\n",
    "df5=df5.sort_values(by=['person_id'], ascending=[True])\n",
    "df5_uniq_id=df5_uniq_id.sort_values(by=['person_id'], ascending=[True])\n",
    "df5 =df5.merge(df5_uniq_id, on=['person_id'], how='inner')"
   ]
  },
  {
   "cell_type": "code",
   "execution_count": 15,
   "id": "e0d07913",
   "metadata": {},
   "outputs": [],
   "source": [
    "#Create a separate data frame for the training data and clean it up. We will use this data set to build the model.\n",
    "df5_training=df5[df5['MODELING_GROUP'] == 'TRAINING']\n",
    "df5_training=df5_training.drop(columns=['MODELING_GROUP','index','randy',\n",
    "                                      'randy_x','randy_y','MODELING_GROUP_x',\n",
    "                                      'MODELING_GROUP_y','flipper'])"
   ]
  },
  {
   "cell_type": "code",
   "execution_count": 16,
   "id": "53fd026f",
   "metadata": {},
   "outputs": [],
   "source": [
    "#Create a separate data frame for the testing data and clean it up. We will use this data set to build the model.\n",
    "df5_testing=df5[df5['MODELING_GROUP'] == 'TESTING']\n",
    "df5_testing=df5_testing.drop(columns=['MODELING_GROUP','index','randy',\n",
    "                                      'randy_x','randy_y','MODELING_GROUP_x',\n",
    "                                      'MODELING_GROUP_y','flipper'])"
   ]
  },
  {
   "cell_type": "code",
   "execution_count": 17,
   "id": "66274ac8",
   "metadata": {},
   "outputs": [],
   "source": [
    "# Define the Training features and Target.\n",
    "df5_training_features = df5_training[df5_training.columns.difference(['exacerbation', 'person_id','date'])]\n",
    "df5_training_target=df5_training[['exacerbation']]\n",
    "\n",
    "#make sure the data is numeric\n",
    "df5_training_target = df5_training_target['exacerbation'].astype(int)\n",
    "df5_training_features = df5_training_features.apply(pd.to_numeric) "
   ]
  },
  {
   "cell_type": "code",
   "execution_count": 18,
   "id": "2c8009be",
   "metadata": {},
   "outputs": [],
   "source": [
    "# Define the testing features and Target.\n",
    "df5_testing_features = df5_testing[df5_testing.columns.difference(['exacerbation', 'person_id','date'])]\n",
    "df5_testing_target=df5_testing[['exacerbation']]\n",
    "\n",
    "#make sure the data is numeric\n",
    "df5_testing_target = df5_testing_target['exacerbation'].astype(int)\n",
    "df5_testing_features = df5_testing_features.apply(pd.to_numeric) "
   ]
  },
  {
   "cell_type": "code",
   "execution_count": 19,
   "id": "614fd3f7",
   "metadata": {},
   "outputs": [],
   "source": [
    "from sklearn import preprocessing\n",
    "import numpy as np\n",
    "min_max_scaler = preprocessing.MinMaxScaler()\n",
    "df5_training_features = min_max_scaler.fit_transform(df5_training_features)\n",
    "df5_testing_features = min_max_scaler.fit_transform(df5_testing_features)"
   ]
  },
  {
   "cell_type": "code",
   "execution_count": null,
   "id": "124b24ed",
   "metadata": {},
   "outputs": [],
   "source": [
    "# train models\n",
    "from sklearn.linear_model import LogisticRegression\n",
    "from sklearn.neighbors import KNeighborsClassifier\n",
    "\n",
    "# logistic regression\n",
    "model1 = LogisticRegression(solver='saga',max_iter=1000)\n",
    "# knn\n",
    "model2 = KNeighborsClassifier(n_neighbors=4)\n",
    "\n",
    "# fit model\n",
    "model1.fit(df5_training_features, df5_training_target)\n",
    "model2.fit(df5_training_features, df5_training_target)\n",
    "\n",
    "# predict probabilities\n",
    "pred_prob1 = model1.predict_proba(df5_testing_features)\n",
    "pred_prob2 = model2.predict_proba(df5_testing_features)"
   ]
  },
  {
   "cell_type": "code",
   "execution_count": null,
   "id": "aa8c6803",
   "metadata": {},
   "outputs": [],
   "source": [
    "from sklearn.metrics import roc_curve\n",
    "\n",
    "# roc curve for models\n",
    "fpr1, tpr1, thresh1 = roc_curve(df5_testing_target, pred_prob1[:,1], pos_label=1)\n",
    "fpr2, tpr2, thresh2 = roc_curve(df5_testing_target, pred_prob2[:,1], pos_label=1)\n",
    "\n",
    "# roc curve for tpr = fpr \n",
    "random_probs = [0 for i in range(len(df5_testing_target))]\n",
    "p_fpr, p_tpr, _ = roc_curve(df5_testing_target, random_probs, pos_label=1)"
   ]
  },
  {
   "cell_type": "markdown",
   "id": "3b0f5ea6",
   "metadata": {},
   "source": [
    "# output interepretation with SHAP"
   ]
  },
  {
   "cell_type": "code",
   "execution_count": null,
   "id": "a16518b8",
   "metadata": {},
   "outputs": [],
   "source": [
    "!pip install shap --upgrade\n",
    "import shap"
   ]
  },
  {
   "cell_type": "code",
   "execution_count": null,
   "id": "70eb11a1",
   "metadata": {},
   "outputs": [],
   "source": [
    "# explain the model's predictions using SHAP\n",
    "\n",
    "explainer = shap.Explainer(xgb0)\n",
    "shap_values = explainer(df_x)\n",
    "\n",
    "# visualize the first prediction's explanation\n",
    "shap.plots.waterfall(shap_values[0])"
   ]
  },
  {
   "cell_type": "code",
   "execution_count": null,
   "id": "f5dd6f1e",
   "metadata": {},
   "outputs": [],
   "source": [
    "#!pip install pyspark --upgrade\n",
    "# visualize the first prediction's explanation with a force plot\n",
    "shap.plots.force(shap_values[0])"
   ]
  },
  {
   "cell_type": "code",
   "execution_count": 97,
   "id": "96b0ce0e",
   "metadata": {},
   "outputs": [
    {
     "data": {
      "text/plain": [
       "None"
      ]
     },
     "metadata": {},
     "output_type": "display_data"
    },
    {
     "data": {
      "image/png": "[encoded data removed]",
      "text/plain": [
       "<Figure size 576x684 with 2 Axes>"
      ]
     },
     "metadata": {
      "needs_background": "light"
     },
     "output_type": "display_data"
    }
   ],
   "source": [
    "import matplotlib.pyplot as plt\n",
    "p = shap.summary_plot(shap_values,  show=False) \n",
    "display(p)"
   ]
  },
  {
   "cell_type": "code",
   "execution_count": 88,
   "id": "94d6aba8",
   "metadata": {},
   "outputs": [
    {
     "data": {
      "image/png": "[encoded data removed]",
      "text/plain": [
       "<Figure size 540x360 with 3 Axes>"
      ]
     },
     "metadata": {
      "needs_background": "light"
     },
     "output_type": "display_data"
    }
   ],
   "source": [
    "# create a dependence scatter plot to show the effect of a single feature across the whole dataset\n",
    "shap.plots.scatter(shap_values[:,\"BMI\"], color=shap_values)"
   ]
  },
  {
   "cell_type": "code",
   "execution_count": 95,
   "id": "4f383e58",
   "metadata": {},
   "outputs": [
    {
     "data": {
      "image/png": "[encoded data removed]",
      "text/plain": [
       "<Figure size 576x468 with 1 Axes>"
      ]
     },
     "metadata": {},
     "output_type": "display_data"
    }
   ],
   "source": [
    "shap.plots.bar(shap_values)"
   ]
  },
  {
   "cell_type": "code",
   "execution_count": null,
   "id": "2c5c862a",
   "metadata": {},
   "outputs": [],
   "source": [
    "# takes a couple minutes since SHAP interaction values take a factor of 2 * # features\n",
    "# more time than SHAP values to compute, since this is just an example we only explain\n",
    "# the first 2,000 people in order to run quicker\n",
    "shap_interaction_values = shap.TreeExplainer(xgb0).shap_interaction_values(df_x.iloc[:10000,:])\n",
    "shap.summary_plot(shap_interaction_values, df_x.iloc[:10000,:])"
   ]
  },
  {
   "cell_type": "code",
   "execution_count": null,
   "id": "421c5910",
   "metadata": {},
   "outputs": [],
   "source": [
    "shap_interaction_values = shap.TreeExplainer(xgb0).shap_interaction_values(df_x.iloc[:10000,:])\n",
    "shap.dependence_plot(\n",
    "    (\"BMI\", \"drug _class_inhaled corticoseroids\"),\n",
    "    shap_interacton_values, df_x.iloc[:10000,:],\n",
    "    display_features=X_display.iloc[:10000,:]\n",
    ")"
   ]
  },
  {
   "cell_type": "code",
   "execution_count": null,
   "id": "8956615d",
   "metadata": {},
   "outputs": [],
   "source": [
    "tmp = np.abs(shap_interaction_values).sum(0)\n",
    "for i in range(tmp.shape[0]):\n",
    "    tmp[i,i] = 0\n",
    "inds = np.argsort(-tmp.sum(0))[:50]\n",
    "tmp2 = tmp[inds,:][:,inds]\n",
    "pl.figure(figsize=(12,12))\n",
    "pl.imshow(tmp2)\n",
    "pl.yticks(range(tmp2.shape[0]), df_x.columns[inds], rotation=50.4, horizontalalignment=\"right\")\n",
    "pl.xticks(range(tmp2.shape[0]), df_x.columns[inds], rotation=50.4, horizontalalignment=\"left\")\n",
    "pl.gca().xaxis.tick_top()\n",
    "pl.show()"
   ]
  },
  {
   "cell_type": "code",
   "execution_count": null,
   "id": "4752526f",
   "metadata": {},
   "outputs": [],
   "source": []
  }
 ],
 "metadata": {
  "kernelspec": {
   "display_name": "Python 3",
   "language": "python",
   "name": "python3"
  },
  "language_info": {
   "codemirror_mode": {
    "name": "ipython",
    "version": 3
   },
   "file_extension": ".py",
   "mimetype": "text/x-python",
   "name": "python",
   "nbconvert_exporter": "python",
   "pygments_lexer": "ipython3",
   "version": "3.7.10"
  },
  "toc": {
   "base_numbering": 1,
   "nav_menu": {},
   "number_sections": true,
   "sideBar": true,
   "skip_h1_title": false,
   "title_cell": "Table of Contents",
   "title_sidebar": "Contents",
   "toc_cell": false,
   "toc_position": {},
   "toc_section_display": true,
   "toc_window_display": false
  }
 },
 "nbformat": 4,
 "nbformat_minor": 5
}
